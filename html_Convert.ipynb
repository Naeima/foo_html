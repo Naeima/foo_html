{
 "cells": [
  {
   "cell_type": "code",
   "execution_count": 1,
   "id": "32aa1d35",
   "metadata": {},
   "outputs": [
    {
     "name": "stdout",
     "output_type": "stream",
     "text": [
      "Conversion completed. The 'index.html' file has been created.\n"
     ]
    }
   ],
   "source": [
    "import html\n",
    "\n",
    "turtle_file = \"index.ttl\"\n",
    "html_file = \"index.html\"\n",
    "\n",
    "# Read the Turtle file content\n",
    "with open(turtle_file, \"r\", encoding=\"utf-8\") as file:\n",
    "    turtle_content = file.read()\n",
    "\n",
    "# Escape HTML special characters in the Turtle content\n",
    "escaped_turtle_content = html.escape(turtle_content)\n",
    "\n",
    "# Convert the Turtle content to HTML\n",
    "html_content = f\"\"\"<!DOCTYPE html>\n",
    "<html lang=\"en\">\n",
    "<head>\n",
    "    <meta charset=\"UTF-8\">\n",
    "    <title>Turtle File as HTML</title>\n",
    "    <style>\n",
    "        body {{ font-family: monospace; white-space: pre; }}\n",
    "        pre {{ white-space: pre-wrap; word-wrap: break-word; }}\n",
    "    </style>\n",
    "</head>\n",
    "<body>\n",
    "    <pre>{escaped_turtle_content}</pre>\n",
    "</body>\n",
    "</html>\n",
    "\"\"\"\n",
    "\n",
    "# Write the HTML content to the output file\n",
    "with open(html_file, \"w\", encoding=\"utf-8\") as file:\n",
    "    file.write(html_content)\n",
    "\n",
    "print(f\"Conversion completed. The '{html_file}' file has been created.\")"
   ]
  },
  {
   "cell_type": "code",
   "execution_count": null,
   "id": "55ae1c58",
   "metadata": {},
   "outputs": [],
   "source": []
  }
 ],
 "metadata": {
  "kernelspec": {
   "display_name": "Python 3 (ipykernel)",
   "language": "python",
   "name": "python3"
  },
  "language_info": {
   "codemirror_mode": {
    "name": "ipython",
    "version": 3
   },
   "file_extension": ".py",
   "mimetype": "text/x-python",
   "name": "python",
   "nbconvert_exporter": "python",
   "pygments_lexer": "ipython3",
   "version": "3.9.13"
  }
 },
 "nbformat": 4,
 "nbformat_minor": 5
}
